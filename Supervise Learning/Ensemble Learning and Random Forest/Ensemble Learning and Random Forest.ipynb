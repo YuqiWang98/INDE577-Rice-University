{
 "cells": [
  {
   "cell_type": "markdown",
   "id": "7561f5f0",
   "metadata": {},
   "source": [
    "# Ensemble Learning and Random Forest\n",
    "\n",
    "---\n",
    "## Table of Content\n",
    "\n",
    "* [Introduction](#Introduction)\n",
    "* [Types of Ensemble Methods](#Methods)\n",
    "     - [BAGGing, or Bootstrap AGGregating](#Bagging)\n",
    "     - [Random Forest Models](#Random)\n",
    "* [Advantages and Disadvantages of Ensemble](#AD)\n",
    "     - [Advantages](#Advantages)\n",
    "     - [Disadvantages](#Disadvantages)\n",
    "* [Summary](#summary)\n",
    "* [Implement](#implement)\n",
    "* [Application on Data set](#code)\n",
    "\n",
    "---\n",
    "\n",
    "## Introduction<a class=\"anchor\" id=\"Introduction\"></a >\n",
    "\n",
    "Ensemble methods is a machine learning technique that combines several base models in order to produce one optimal predictive model.\n",
    "\n",
    "When making Decision Trees, there are several factors we must take into consideration: On what features do we make our decisions on? What is the threshold for classifying each question into a yes or no answer? In the first Decision Tree, what if we wanted to ask ourselves if we had friends to play with or not. If we have friends, we will play every time. If not, we might continue to ask ourselves questions about the weather. By adding an additional question, we hope to greater define the Yes and No classes.\n",
    "\n",
    "This is where Ensemble Methods come in handy! Rather than just relying on one Decision Tree and hoping we made the right decision at each split, Ensemble Methods allow us to take a sample of Decision Trees into account, calculate which features to use or questions to ask at each split, and make a final predictor based on the aggregated results of the sampled Decision Trees.\n",
    "\n",
    "---\n",
    "## Types of Ensemble Methods<a class=\"anchor\" id=\"Methods\"></a >\n",
    "\n",
    "#### BAGGing, or Bootstrap AGGregating.<a class=\"anchor\" id=\"Bagging\"></a >\n",
    "\n",
    "BAGGing gets its name because it combines Bootstrapping and Aggregation to form one ensemble model. Given a sample of data, multiple bootstrapped subsamples are pulled. A Decision Tree is formed on each of the bootstrapped subsamples. After each subsample Decision Tree has been formed, an algorithm is used to aggregate over the Decision Trees to form the most efficient predictor. The image below will help explain:\n",
    "\n",
    "![image](https://miro.medium.com/max/1400/0*PBGJw23ud8Sp7qO4.)\n",
    "\n",
    "#### Random Forest Models. <a class=\"anchor\" id=\"Random\"></a >\n",
    "\n",
    "Random Forest Models can be thought of as BAGGing, with a slight tweak. When deciding where to split and how to make decisions, BAGGed Decision Trees have the full disposal of features to choose from. Therefore, although the bootstrapped samples may be slightly different, the data is largely going to break off at the same features throughout each model. In contrary, Random Forest models decide where to split based on a random selection of features. Rather than splitting at similar features at each node throughout, Random Forest models implement a level of differentiation because each tree will split based on different features. This level of differentiation provides a greater ensemble to aggregate over, ergo producing a more accurate predictor. Refer to the image for a better understanding.\n",
    "\n",
    "![image](https://miro.medium.com/max/1400/0*XJx4UK_LVNTx0aaI.)\n",
    "\n",
    "Similar to BAGGing, bootstrapped subsamples are pulled from a larger dataset. A decision tree is formed on each subsample. **HOWEVER**, the decision tree is split on different features (in this diagram the features are represented by shapes).\n",
    "\n",
    "---\n",
    "## Advantages and Disadvantages of Ensemble <a class=\"anchor\" id=\"AD\"></a >\n",
    "\n",
    "### Advantages of ensemble methods<a class=\"anchor\" id=\"Advantages\"></a >\n",
    "\n",
    "* Intuitively, ensembles allow the different needs of a difficult problem to be handled by hypotheses suited to those particular needs.\n",
    "\n",
    "* Mathematically, ensembles provide an extra degree of freedom in the classical bias/variance tradeoff, allowing solutions that would be difficult (if not impossible) to reach with only a single hypothesis.\n",
    "\n",
    "* They’re unlikely to overfit.\n",
    "\n",
    "### Disadvantages of ensemble methods<a class=\"anchor\" id=\"Disadvantages\"></a >\n",
    "\n",
    "* The model that is closest to the true data generating process will always be best and will beat most ensemble methods. So if the data come from a linear process, linear models will be much superior to ensemble models.\n",
    "\n",
    "* Ensemble models suffer from lack of interpretability. Sometimes we need predictions and explanations of the predictions. It is hard to convince people to act on predictions when the methods are too complex for their comfort level. Variable importance analysis can help with insights, but if the ensemble is more accurate than a linear additive model, the ensemble is probably exploiting some non-linear and interaction effects that the variable importance analysis can’t completely account for.\n",
    "\n",
    "* Ensemble methods are usually computationally expensive. Therefore, they add learning time and memory constrains to the problem.\n",
    "\n",
    "---\n",
    "### In Summary<a class=\"anchor\" id=\"Summary\"></a >\n",
    "\n",
    "The goal of any machine learning problem is to find a single model that will best predict our wanted outcome. Rather than making one model and hoping this model is the best/most accurate predictor we can make, ensemble methods take a myriad of models into account, and average those models to produce one final model. \n",
    "\n",
    "---\n",
    "\n",
    "## Implement<a class=\"anchor\" id=\"implement\"></a >\n",
    "\n",
    "In the following notebook, I will use ensemble learning algorithms for species classification using the Penguin dataset. The three ensemble learning models will be used:\n",
    "\n",
    "* Random forest \n",
    "\n",
    "* Multiple decision trees will be constructed using bagging strategy.\n",
    "\n",
    "* Multiple MLP will be constructed using bagging strategy.\n",
    "\n",
    "\n",
    "---\n",
    "## Application on Data set<a class=\"anchor\" id=\"code\"></a >\n",
    "\n",
    "In this part, We will compare the performances of the individual models and the ensemble model.\n",
    "\n",
    "\n",
    "### Data preprocessing\n",
    "\n",
    "* Classification\n",
    "\n",
    "\n"
   ]
  },
  {
   "cell_type": "code",
   "execution_count": 11,
   "id": "3830286f",
   "metadata": {},
   "outputs": [],
   "source": [
    "## import necessary packages\n",
    "\n",
    "# Import necessary libraries\n",
    "import matplotlib.pyplot as plt \n",
    "import numpy as np\n",
    "import pandas as pd\n",
    "import seaborn as sns\n",
    "\n",
    "# Import the tool form sklearn\n",
    "from sklearn.model_selection import train_test_split\n",
    "from sklearn.ensemble import RandomForestClassifier\n",
    "from sklearn.ensemble import BaggingClassifier\n",
    "from sklearn.ensemble import VotingClassifier\n",
    "from sklearn.tree import DecisionTreeClassifier\n",
    "from sklearn.linear_model import LogisticRegression\n",
    "from sklearn.neural_network import MLPClassifier\n",
    "from sklearn.metrics import accuracy_score"
   ]
  },
  {
   "cell_type": "code",
   "execution_count": 2,
   "id": "070cbd47",
   "metadata": {},
   "outputs": [
    {
     "data": {
      "text/html": [
       "<div>\n",
       "<style scoped>\n",
       "    .dataframe tbody tr th:only-of-type {\n",
       "        vertical-align: middle;\n",
       "    }\n",
       "\n",
       "    .dataframe tbody tr th {\n",
       "        vertical-align: top;\n",
       "    }\n",
       "\n",
       "    .dataframe thead th {\n",
       "        text-align: right;\n",
       "    }\n",
       "</style>\n",
       "<table border=\"1\" class=\"dataframe\">\n",
       "  <thead>\n",
       "    <tr style=\"text-align: right;\">\n",
       "      <th></th>\n",
       "      <th>species</th>\n",
       "      <th>island</th>\n",
       "      <th>bill_length_mm</th>\n",
       "      <th>bill_depth_mm</th>\n",
       "      <th>flipper_length_mm</th>\n",
       "      <th>body_mass_g</th>\n",
       "      <th>sex</th>\n",
       "    </tr>\n",
       "  </thead>\n",
       "  <tbody>\n",
       "    <tr>\n",
       "      <th>0</th>\n",
       "      <td>Adelie</td>\n",
       "      <td>Torgersen</td>\n",
       "      <td>39.1</td>\n",
       "      <td>18.7</td>\n",
       "      <td>181.0</td>\n",
       "      <td>3750.0</td>\n",
       "      <td>Male</td>\n",
       "    </tr>\n",
       "    <tr>\n",
       "      <th>1</th>\n",
       "      <td>Adelie</td>\n",
       "      <td>Torgersen</td>\n",
       "      <td>39.5</td>\n",
       "      <td>17.4</td>\n",
       "      <td>186.0</td>\n",
       "      <td>3800.0</td>\n",
       "      <td>Female</td>\n",
       "    </tr>\n",
       "    <tr>\n",
       "      <th>2</th>\n",
       "      <td>Adelie</td>\n",
       "      <td>Torgersen</td>\n",
       "      <td>40.3</td>\n",
       "      <td>18.0</td>\n",
       "      <td>195.0</td>\n",
       "      <td>3250.0</td>\n",
       "      <td>Female</td>\n",
       "    </tr>\n",
       "    <tr>\n",
       "      <th>4</th>\n",
       "      <td>Adelie</td>\n",
       "      <td>Torgersen</td>\n",
       "      <td>36.7</td>\n",
       "      <td>19.3</td>\n",
       "      <td>193.0</td>\n",
       "      <td>3450.0</td>\n",
       "      <td>Female</td>\n",
       "    </tr>\n",
       "    <tr>\n",
       "      <th>5</th>\n",
       "      <td>Adelie</td>\n",
       "      <td>Torgersen</td>\n",
       "      <td>39.3</td>\n",
       "      <td>20.6</td>\n",
       "      <td>190.0</td>\n",
       "      <td>3650.0</td>\n",
       "      <td>Male</td>\n",
       "    </tr>\n",
       "  </tbody>\n",
       "</table>\n",
       "</div>"
      ],
      "text/plain": [
       "  species     island  bill_length_mm  bill_depth_mm  flipper_length_mm  \\\n",
       "0  Adelie  Torgersen            39.1           18.7              181.0   \n",
       "1  Adelie  Torgersen            39.5           17.4              186.0   \n",
       "2  Adelie  Torgersen            40.3           18.0              195.0   \n",
       "4  Adelie  Torgersen            36.7           19.3              193.0   \n",
       "5  Adelie  Torgersen            39.3           20.6              190.0   \n",
       "\n",
       "   body_mass_g     sex  \n",
       "0       3750.0    Male  \n",
       "1       3800.0  Female  \n",
       "2       3250.0  Female  \n",
       "4       3450.0  Female  \n",
       "5       3650.0    Male  "
      ]
     },
     "execution_count": 2,
     "metadata": {},
     "output_type": "execute_result"
    }
   ],
   "source": [
    "# Set theme for plotting\n",
    "sns.set_theme()\n",
    "\n",
    "# Import the data\n",
    "df = pd.read_csv(\"palmer_penguins.csv\")\n",
    "\n",
    "df.dropna(inplace = True)\n",
    "df.drop(\"Unnamed: 0\", axis = 1, inplace = True)\n",
    "df.head()\n"
   ]
  },
  {
   "cell_type": "code",
   "execution_count": 3,
   "id": "07495820",
   "metadata": {},
   "outputs": [
    {
     "data": {
      "image/png": "[encoded data removed]",
      "text/plain": [
       "<Figure size 576x432 with 1 Axes>"
      ]
     },
     "metadata": {},
     "output_type": "display_data"
    }
   ],
   "source": [
    "# Extract out desired features from Penguins Dataset, and covert features to numpy array\n",
    "X = df[[\"bill_length_mm\", \"bill_depth_mm\"]].to_numpy()\n",
    "\n",
    "# Define labeling function\n",
    "def make_labels(y):\n",
    "    if y == \"Adelie\":\n",
    "        return 0\n",
    "    \n",
    "    elif y == \"Chinstrap\":\n",
    "        return 1\n",
    "    else:\n",
    "        return 2\n",
    "         \n",
    "# # Extract out labels, and convert labels to numpy array\n",
    "y = df[\"species\"].map(make_labels).to_numpy()\n",
    "\n",
    "# Plot the data\n",
    "penguins = [\"Adelie\", \"Chinstrap\",\"Gentoo\"]\n",
    "colors = [\"blue\", \"green\",\"red\"]\n",
    "\n",
    "fig, ax = plt.subplots(figsize = (8, 6))\n",
    "for species, color in zip(penguins, colors):\n",
    "    temp_df = df[df.species == species]\n",
    "    ax.scatter(temp_df.bill_length_mm,\n",
    "               temp_df.bill_depth_mm,\n",
    "               c = color,\n",
    "               label = species, \n",
    "               )\n",
    "    \n",
    "ax.set_xlabel(\"bill length [mm]\", fontsize = 15)\n",
    "ax.set_ylabel(\"bill depth [mm]\", fontsize = 15)\n",
    "ax.legend()\n",
    "plt.show()"
   ]
  },
  {
   "cell_type": "markdown",
   "id": "b82eac08",
   "metadata": {},
   "source": [
    "From the scatter plot above, \"bill_length_mm\" and \"bill_depth_mm\", can separate the three pinguin species well. And thus, I will use these two features as predictors. And we can see that there is a clear distinction between the three species."
   ]
  },
  {
   "cell_type": "code",
   "execution_count": 15,
   "id": "14516a15",
   "metadata": {},
   "outputs": [],
   "source": [
    "from sklearn.model_selection import train_test_split\n",
    "\n",
    "X_train, X_test, y_train, y_test = train_test_split(X, \n",
    "                                                   y,\n",
    "                                                   test_size = 0.4,\n",
    "                                                   random_state = 42)"
   ]
  },
  {
   "cell_type": "markdown",
   "id": "24963239",
   "metadata": {},
   "source": [
    "### Bagging\n",
    "\n",
    "In this part, multiple decision trees will be constructed using bagging strategy.\n",
    "\n",
    "To achieve, we use the tools, BaggingClassifier and DecisionTreeClassifier in sklearn."
   ]
  },
  {
   "cell_type": "code",
   "execution_count": 23,
   "id": "b643bc89",
   "metadata": {},
   "outputs": [],
   "source": [
    "# Set up the ensemble model\n",
    "bag_clf = BaggingClassifier(DecisionTreeClassifier(), \n",
    "                            n_estimators=500, \n",
    "                            max_samples=100, \n",
    "                            bootstrap = True, \n",
    "                            n_jobs = -1)"
   ]
  },
  {
   "cell_type": "code",
   "execution_count": 24,
   "id": "d7abcd0e",
   "metadata": {},
   "outputs": [
    {
     "data": {
      "text/plain": [
       "BaggingClassifier(base_estimator=DecisionTreeClassifier(), max_samples=100,\n",
       "                  n_estimators=500, n_jobs=-1)"
      ]
     },
     "execution_count": 24,
     "metadata": {},
     "output_type": "execute_result"
    }
   ],
   "source": [
    "# Train the training set\n",
    "bag_clf.fit(X_train, y_train)"
   ]
  },
  {
   "cell_type": "code",
   "execution_count": 26,
   "id": "32c17649",
   "metadata": {},
   "outputs": [
    {
     "name": "stdout",
     "output_type": "stream",
     "text": [
      "The accuracy of the bagging on the testing set is 0.8880597014925373\n"
     ]
    }
   ],
   "source": [
    "# Predict the test data\n",
    "y_pred = bag_clf.predict(X_test)\n",
    "\n",
    "# Calculate the accuracy\n",
    "print(\"The accuracy of the bagging on the testing set is\",accuracy_score(y_test, y_pred))"
   ]
  },
  {
   "cell_type": "markdown",
   "id": "2d5837e3",
   "metadata": {},
   "source": [
    "### Random Forest\n",
    "\n",
    "In this part, multiple decision trees will be constructed using Random Forest.\n",
    "\n",
    "We will use the classifier provided by sklearn, RandomForestClassifier."
   ]
  },
  {
   "cell_type": "code",
   "execution_count": 27,
   "id": "012912e8",
   "metadata": {},
   "outputs": [
    {
     "data": {
      "text/plain": [
       "RandomForestClassifier(random_state=0)"
      ]
     },
     "execution_count": 27,
     "metadata": {},
     "output_type": "execute_result"
    }
   ],
   "source": [
    "# Train the training set\n",
    "clf = RandomForestClassifier(random_state=0)\n",
    "clf.fit(X_train, y_train)"
   ]
  },
  {
   "cell_type": "code",
   "execution_count": 28,
   "id": "39066c1e",
   "metadata": {},
   "outputs": [
    {
     "name": "stdout",
     "output_type": "stream",
     "text": [
      "The accuracy of the random forest on the testing set is 0.9328358208955224\n"
     ]
    }
   ],
   "source": [
    "# Predict the test data and calculate the accuracy\n",
    "y_pred = clf.predict(X_test)\n",
    "print(\"The accuracy of the random forest on the testing set is\",accuracy_score(y_test, y_pred))"
   ]
  },
  {
   "cell_type": "markdown",
   "id": "20c661f7",
   "metadata": {},
   "source": [
    "### Individual Decision Tree"
   ]
  },
  {
   "cell_type": "code",
   "execution_count": 30,
   "id": "94d707cd",
   "metadata": {},
   "outputs": [
    {
     "name": "stdout",
     "output_type": "stream",
     "text": [
      "The accuracy of the individual decision tree on the testing set is 0.9029850746268657\n"
     ]
    }
   ],
   "source": [
    "# Set up the decision tree and train the training set\n",
    "dt_clf = DecisionTreeClassifier(random_state=0)\n",
    "dt_clf.fit(X_train, y_train)\n",
    "# Predict the test data and calculate the accuracy\n",
    "y_pred = dt_clf.predict(X_test)\n",
    "print(\"The accuracy of the individual decision tree on the testing set is\",accuracy_score(y_test, y_pred))"
   ]
  },
  {
   "cell_type": "markdown",
   "id": "11ddf705",
   "metadata": {},
   "source": [
    "---\n",
    "\n",
    "## Conclusion\n",
    "\n",
    "In this case, the ensemble learning model performs better than the individual algorithms when we use Random Forest. **However**, this is not always the case. In the meantime, the ensemble learning model needs more computational space and time to implement."
   ]
  }
 ],
 "metadata": {
  "kernelspec": {
   "display_name": "Python 3 (ipykernel)",
   "language": "python",
   "name": "python3"
  },
  "language_info": {
   "codemirror_mode": {
    "name": "ipython",
    "version": 3
   },
   "file_extension": ".py",
   "mimetype": "text/x-python",
   "name": "python",
   "nbconvert_exporter": "python",
   "pygments_lexer": "ipython3",
   "version": "3.9.7"
  }
 },
 "nbformat": 4,
 "nbformat_minor": 5
}
